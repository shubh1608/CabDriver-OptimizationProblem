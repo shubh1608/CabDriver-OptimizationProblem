{
  "nbformat": 4,
  "nbformat_minor": 0,
  "metadata": {
    "colab": {
      "name": "OCRusingTesseract.ipynb",
      "provenance": [],
      "gpuType": "T4",
      "include_colab_link": true
    },
    "kernelspec": {
      "name": "python3",
      "display_name": "Python 3"
    },
    "accelerator": "GPU",
    "language_info": {
      "name": "python"
    }
  },
  "cells": [
    {
      "cell_type": "markdown",
      "metadata": {
        "id": "view-in-github",
        "colab_type": "text"
      },
      "source": [
        "<a href=\"https://colab.research.google.com/github/shubh1608/CabDriver-OptimizationProblem/blob/main/OCRusingTesseract.ipynb\" target=\"_parent\"><img src=\"https://colab.research.google.com/assets/colab-badge.svg\" alt=\"Open In Colab\"/></a>"
      ]
    },
    {
      "metadata": {
        "id": "uWwpI-24_Nob",
        "colab": {
          "base_uri": "https://localhost:8080/"
        },
        "outputId": "8a202d94-9e47-4c2f-d140-7f4ae3cd7727"
      },
      "cell_type": "code",
      "source": [
        "!sudo apt install tesseract-ocr"
      ],
      "execution_count": 1,
      "outputs": [
        {
          "output_type": "stream",
          "name": "stdout",
          "text": [
            "Reading package lists... Done\n",
            "Building dependency tree... Done\n",
            "Reading state information... Done\n",
            "tesseract-ocr is already the newest version (4.1.1-2.1build1).\n",
            "0 upgraded, 0 newly installed, 0 to remove and 35 not upgraded.\n"
          ]
        }
      ]
    },
    {
      "metadata": {
        "id": "ujL16dZ2_O-3",
        "colab": {
          "base_uri": "https://localhost:8080/"
        },
        "outputId": "879cba91-e1d3-4ad9-85e2-3a825e8a76d1"
      },
      "cell_type": "code",
      "source": [
        "!pip install pytesseract"
      ],
      "execution_count": 2,
      "outputs": [
        {
          "output_type": "stream",
          "name": "stdout",
          "text": [
            "Collecting pytesseract\n",
            "  Downloading pytesseract-0.3.13-py3-none-any.whl.metadata (11 kB)\n",
            "Requirement already satisfied: packaging>=21.3 in /usr/local/lib/python3.11/dist-packages (from pytesseract) (24.2)\n",
            "Requirement already satisfied: Pillow>=8.0.0 in /usr/local/lib/python3.11/dist-packages (from pytesseract) (11.2.1)\n",
            "Downloading pytesseract-0.3.13-py3-none-any.whl (14 kB)\n",
            "Installing collected packages: pytesseract\n",
            "Successfully installed pytesseract-0.3.13\n"
          ]
        }
      ]
    },
    {
      "metadata": {
        "id": "QKJh7JjTAqzO"
      },
      "cell_type": "code",
      "source": [
        "import pytesseract\n",
        "import shutil\n",
        "import os\n",
        "import random\n",
        "try:\n",
        "    from PIL import Image\n",
        "except ImportError:\n",
        "    import Image"
      ],
      "execution_count": 3,
      "outputs": []
    },
    {
      "metadata": {
        "id": "aw9nJoeqBWZP"
      },
      "cell_type": "code",
      "source": [
        "import pytesseract\n",
        "from PIL import Image\n",
        "import pandas as pd\n",
        "import sys\n",
        "import os\n",
        "\n",
        "def assess_image_quality_by_ocr(image_path, confidence_threshold=60):\n",
        "    \"\"\"\n",
        "    Assess image quality based on OCR confidence scores.\n",
        "\n",
        "    Args:\n",
        "        image_path (str): Path to the image file\n",
        "        confidence_threshold (int): Threshold below which image is considered bad quality\n",
        "\n",
        "    Returns:\n",
        "        dict: Contains assessment results including average confidence, quality rating, and detailed data\n",
        "    \"\"\"\n",
        "\n",
        "    try:\n",
        "        # Load the image using PIL\n",
        "        image = Image.open(image_path)\n",
        "        print(f\"Processing image: {image_path}\")\n",
        "        print(f\"Image size: {image.size}\")\n",
        "\n",
        "        # Perform OCR with detailed output including confidence scores\n",
        "        # output_type=Output.DATAFRAME returns a pandas DataFrame with confidence scores\n",
        "        ocr_data = pytesseract.image_to_data(image, output_type=pytesseract.Output.DATAFRAME)\n",
        "\n",
        "        # Filter out rows where confidence is -1 (indicates no text detected)\n",
        "        # Confidence of -1 typically means Tesseract couldn't detect any text in that region\n",
        "        valid_text_data = ocr_data[ocr_data['conf'] > 0]\n",
        "\n",
        "        if valid_text_data.empty:\n",
        "            return {\n",
        "                'average_confidence': 0,\n",
        "                'quality_assessment': 'BAD - No readable text detected',\n",
        "                'total_text_regions': 0,\n",
        "                'readable_regions': 0,\n",
        "                'image_readable': False,\n",
        "                'threshold_used': confidence_threshold\n",
        "            }\n",
        "\n",
        "        # Calculate statistics about the OCR results\n",
        "        average_confidence = valid_text_data['conf'].mean()\n",
        "        total_regions = len(ocr_data)\n",
        "        readable_regions = len(valid_text_data)\n",
        "        high_confidence_regions = len(valid_text_data[valid_text_data['conf'] >= confidence_threshold])\n",
        "\n",
        "        # Determine if image quality is good or bad based on average confidence\n",
        "        is_good_quality = average_confidence >= confidence_threshold\n",
        "        quality_label = \"GOOD - Readable\" if is_good_quality else \"BAD - Poor quality\"\n",
        "\n",
        "        # Extract actual text content for reference\n",
        "        detected_text = ' '.join(valid_text_data['text'].dropna().astype(str))\n",
        "\n",
        "        # Print detailed analysis\n",
        "        print(f\"\\n--- OCR Quality Analysis ---\")\n",
        "        print(f\"Total text regions detected: {total_regions}\")\n",
        "        print(f\"Regions with readable text: {readable_regions}\")\n",
        "        print(f\"Regions meeting confidence threshold: {high_confidence_regions}\")\n",
        "        print(f\"Average confidence score: {average_confidence:.2f}\")\n",
        "        print(f\"Confidence threshold: {confidence_threshold}\")\n",
        "        print(f\"Quality assessment: {quality_label}\")\n",
        "        print(f\"Sample detected text: {detected_text[:100]}...\" if detected_text else \"No text detected\")\n",
        "\n",
        "        return {\n",
        "            'average_confidence': round(average_confidence, 2),\n",
        "            'quality_assessment': quality_label,\n",
        "            'total_text_regions': total_regions,\n",
        "            'readable_regions': readable_regions,\n",
        "            'high_confidence_regions': high_confidence_regions,\n",
        "            'image_readable': is_good_quality,\n",
        "            'threshold_used': confidence_threshold,\n",
        "            'detected_text_sample': detected_text[:200] if detected_text else None,\n",
        "            'confidence_distribution': {\n",
        "                'min': valid_text_data['conf'].min(),\n",
        "                'max': valid_text_data['conf'].max(),\n",
        "                'median': valid_text_data['conf'].median(),\n",
        "                'std': valid_text_data['conf'].std()\n",
        "            }\n",
        "        }\n",
        "\n",
        "    except FileNotFoundError:\n",
        "        print(f\"Error: Image file '{image_path}' not found.\")\n",
        "        return None\n",
        "    except Exception as e:\n",
        "        print(f\"Error processing image: {str(e)}\")\n",
        "        return None\n",
        "\n",
        "def batch_assess_images(image_paths, confidence_threshold=60):\n",
        "    \"\"\"\n",
        "    Assess multiple images for quality based on OCR confidence.\n",
        "\n",
        "    Args:\n",
        "        image_paths (list): List of image file paths\n",
        "        confidence_threshold (int): Confidence threshold for quality assessment\n",
        "\n",
        "    Returns:\n",
        "        list: Results for each image\n",
        "    \"\"\"\n",
        "    results = []\n",
        "\n",
        "    for image_path in image_paths:\n",
        "        print(f\"\\n{'='*50}\")\n",
        "        result = assess_image_quality_by_ocr(image_path, confidence_threshold)\n",
        "        if result:\n",
        "            results.append({\n",
        "                'image_path': image_path,\n",
        "                **result\n",
        "            })\n",
        "\n",
        "    return results\n",
        "\n",
        "# Example usage and testing\n",
        "if __name__ == \"__main__\":\n",
        "    # Example 1: Single image assessment\n",
        "    print(\"OCR-Based Image Quality Assessment Tool\")\n",
        "    print(\"=\" * 40)\n",
        "\n",
        "    # You can modify this path to point to your image\n",
        "    sample_image_path = \"sample_document.jpg\"  # Replace with your image path\n",
        "\n",
        "    # You can adjust this threshold based on your needs\n",
        "    # Typical ranges: 50-70 for moderate quality, 70+ for good quality\n",
        "    confidence_threshold = 60\n",
        "\n",
        "    if len(sys.argv) > 1:\n",
        "        # Allow image path to be provided as command line argument\n",
        "        sample_image_path = sys.argv[1]\n",
        "\n",
        "    if len(sys.argv) > 2:\n",
        "        # Allow confidence threshold to be provided as command line argument\n",
        "        confidence_threshold = int(sys.argv[2])\n",
        "\n",
        "    # Check if image file exists before processing\n",
        "    if os.path.exists(sample_image_path):\n",
        "        result = assess_image_quality_by_ocr(sample_image_path, confidence_threshold)\n",
        "\n",
        "        if result:\n",
        "            print(f\"\\n{'='*50}\")\n",
        "            print(\"FINAL ASSESSMENT:\")\n",
        "            print(f\"Image: {sample_image_path}\")\n",
        "            print(f\"Average Confidence: {result['average_confidence']}\")\n",
        "            print(f\"Quality: {result['quality_assessment']}\")\n",
        "            print(f\"Readable: {'Yes' if result['image_readable'] else 'No'}\")\n",
        "    else:\n",
        "        print(f\"Sample image '{sample_image_path}' not found.\")\n",
        "        print(\"\\nTo use this script:\")\n",
        "        print(\"1. Install required packages: pip install pytesseract pillow pandas\")\n",
        "        print(\"2. Install Tesseract OCR engine on your system\")\n",
        "        print(\"3. Run: python script.py your_image.jpg [confidence_threshold]\")\n",
        "\n",
        "        # Example of how to use with multiple images\n",
        "        print(\"\\n\" + \"=\"*50)\n",
        "        print(\"BATCH PROCESSING EXAMPLE:\")\n",
        "\n",
        "        # Uncomment and modify these lines to process multiple images\n",
        "        # image_list = [\"image1.jpg\", \"image2.png\", \"image3.pdf\"]\n",
        "        # batch_results = batch_assess_images(image_list, confidence_threshold=65)\n",
        "        #\n",
        "        # for result in batch_results:\n",
        "        #     print(f\"{result['image_path']}: {result['quality_assessment']} (Avg: {result['average_confidence']})\")"
      ],
      "execution_count": null,
      "outputs": []
    }
  ]
}